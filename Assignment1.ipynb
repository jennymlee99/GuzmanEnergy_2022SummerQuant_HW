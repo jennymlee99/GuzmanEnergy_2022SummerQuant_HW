{
 "cells": [
  {
   "cell_type": "code",
   "execution_count": 71,
   "id": "cdff0f20",
   "metadata": {},
   "outputs": [],
   "source": [
    "from datetime import datetime, timedelta, date\n",
    "import calendar\n",
    "import holidays\n",
    "\n",
    "nerc_holidays = [\"New Year's Day\", \"Memorial Day\", \"Independence Day\",\n",
    "                 \"Labor Day\", \"Thanksgiving\", \"Christmas Day\"]     # define NERC holidays\n",
    "\n",
    "months = ['Jan', 'Feb', 'Mar', 'Apr', 'May', 'Jun', \n",
    "          'Jul', 'Aug', 'Sep', 'Oct', 'Nov', 'Dec']     "
   ]
  },
  {
   "cell_type": "code",
   "execution_count": 279,
   "id": "411ab753",
   "metadata": {},
   "outputs": [],
   "source": [
    "def get_hours_daily(iso, peak_type, date, eastern):\n",
    "    \"\"\"\n",
    "    returns the number of hours of one calendar day.\n",
    "    \"\"\"\n",
    "    \n",
    "    result = 0\n",
    "    \n",
    "    # weekend\n",
    "    weekend = False\n",
    "    if date.weekday() > 4 and eastern:\n",
    "        weekend = True    #Western market takes Saturday as a weekday.\n",
    "    if date.weekday() > 5 and not eastern:\n",
    "        weekend = True\n",
    "            \n",
    "    # holiday\n",
    "    holiday = False\n",
    "    if holidays.UnitedStates().get(date) and holidays.UnitedStates().get(date) in nerc_holidays:\n",
    "        holiday = True\n",
    "            \n",
    "    # DST: if there's a Daylight-saving offset.\n",
    "    # Not in the 'MISO', -1 if it's the second Sunday of March and +1 the first Sunday of November.\n",
    "    DST = 0\n",
    "    if iso != 'MISO' and date.weekday() == 6:\n",
    "        if date.month == 3 and (date - timedelta(days=7)).month == 3 and (date - timedelta(days=14)).month == 2:\n",
    "            DST = -1\n",
    "        elif date.month == 11 and (date - timedelta(days=7)).month == 10:\n",
    "            DST = 1\n",
    "            \n",
    "            \n",
    "    # peak = flat\n",
    "    if peak_type == 'flat':\n",
    "        result = 24 + DST\n",
    "        \n",
    "    # peak = onpeak\n",
    "    if peak_type == 'onpeak':\n",
    "        if (not holiday) and (not weekend):\n",
    "            result = 16\n",
    "        else:\n",
    "            result = 0\n",
    "        \n",
    "    # peak = offpeak\n",
    "    if peak_type == 'offpeak':\n",
    "        if (not holiday) and (not weekend):\n",
    "            result = 8 + DST\n",
    "        else:\n",
    "            result = 24 + DST\n",
    "        \n",
    "    # peak = 2x16H\n",
    "    if peak_type == '2x16H':\n",
    "        if holiday or weekend:\n",
    "            result = 16\n",
    "        else:\n",
    "            result = 0\n",
    "        \n",
    "    # peak = 7x8\n",
    "    if peak_type == '7x8':\n",
    "        result = 8 + DST\n",
    "\n",
    "    # mark the peak days\n",
    "    if (not holiday) and (not weekend):\n",
    "        peakday = True\n",
    "    else:\n",
    "        peakday = False\n",
    "        \n",
    "    return (result, peakday)"
   ]
  },
  {
   "cell_type": "code",
   "execution_count": 280,
   "id": "80be75cd",
   "metadata": {},
   "outputs": [],
   "source": [
    "def get_hours_monthly(iso, peak_type, year, month, eastern):\n",
    "    \"\"\"\n",
    "    returns the number of hours of one month.\n",
    "    \"\"\"\n",
    "    \n",
    "    result = {}\n",
    "    num_hour = 0\n",
    "    num_peakday = 0\n",
    "    \n",
    "    num_days = calendar.monthrange(year, month)[1]\n",
    "    days = [datetime(year, month, day) for day in range(1, num_days+1)]\n",
    "    \n",
    "    # add up the number of hours of each day in the month\n",
    "    for day in days:\n",
    "        temp_result = get_hours_daily(iso, peak_type, day, eastern)\n",
    "        num_hour += temp_result[0]     \n",
    "        num_peakday += temp_result[1]\n",
    "        \n",
    "    result['num.hour'] = num_hour\n",
    "    result['start.date'] = days[0].strftime('%Y-%m-%d')\n",
    "    result['end.date'] = days[-1].strftime('%Y-%m-%d')  \n",
    "    result['total.days'] = len(days)\n",
    "    result['peak.days'] = num_peakday\n",
    "    \n",
    "    return result"
   ]
  },
  {
   "cell_type": "code",
   "execution_count": 289,
   "id": "b2c0495c",
   "metadata": {},
   "outputs": [],
   "source": [
    "def get_hours(iso, peak_type, period):\n",
    "    \"\"\"\n",
    "    returns number of hours by iso/peak.type/period\n",
    "    \"\"\"\n",
    "    \n",
    "    result = {'iso': iso, \n",
    "              'peak.type': peak_type}\n",
    "    peak_days = 0\n",
    "    \n",
    "    # eastern / western iso\n",
    "    eastern = False\n",
    "    if iso in ['PJMISO', 'MISO', 'ERCOT', 'SPPISO', 'NYISO']:\n",
    "        eastern = True\n",
    "\n",
    "    \n",
    "    # daily\n",
    "    if period.find('-') != -1:\n",
    "        date = datetime.strptime(period, '%Y-%m-%d')\n",
    "        result['start.date'] = date.strftime('%Y-%m-%d')\n",
    "        result['end.date'] = date.strftime('%Y-%m-%d')\n",
    "        temp_result = get_hours_daily(iso, peak_type, date, eastern)\n",
    "        result['num.hour'] = temp_result[0]\n",
    "        peak_days = temp_result[1]\n",
    "            \n",
    "            \n",
    "    # monthly: 2018Mar\n",
    "    if any(ele in period for ele in months):\n",
    "        year = int(period[:4])\n",
    "        for m in months:\n",
    "            if m == period[4:]:\n",
    "                month = months.index(m) + 1\n",
    "        temp_result = get_hours_monthly(iso, peak_type, year, month, eastern)\n",
    "        result['num.hour'] = temp_result['num.hour']\n",
    "        result['start.date'] = temp_result['start.date']\n",
    "        result['end.date'] = temp_result['end.date']\n",
    "        peak_days = temp_result['peak.days']\n",
    "        \n",
    "    \n",
    "    # quarterly: 2018Q2\n",
    "    if period.find('Q') != -1:\n",
    "        num_hour = 0\n",
    "        year = int(period[:4])\n",
    "        quarter = int(period[-1])\n",
    "        for month in range(quarter*3-2,quarter*3+1):   # add up the number of hours of each month in the quarter\n",
    "            temp_result = get_hours_monthly(iso, peak_type, year, month, eastern)\n",
    "            num_hour += temp_result['num.hour']\n",
    "            peak_days += temp_result['peak.days']\n",
    "            if month == (quarter*3-2):\n",
    "                startdate = temp_result['start.date']\n",
    "            if month == quarter*3:\n",
    "                enddate = temp_result['end.date']\n",
    "        result['num.hour'] = num_hour\n",
    "        result['start.date'] = startdate\n",
    "        result['end.date'] = enddate\n",
    "        \n",
    "    \n",
    "    # yearly: 2018A\n",
    "    if period[-1] == 'A':\n",
    "        num_hour = 0\n",
    "        year = int(period[:4])\n",
    "        for month in range(1, 13):\n",
    "            temp_result = get_hours_monthly(iso, peak_type, year, month, eastern)\n",
    "            num_hour += temp_result['num.hour']\n",
    "            peak_days += temp_result['peak.days']\n",
    "        result['num.hour'] = num_hour\n",
    "        result['start.date'] = \"%s-01-01\"%(year)\n",
    "        result['end.date'] = \"%s-12-31\"%(year)\n",
    " \n",
    "        \n",
    "    return result"
   ]
  },
  {
   "cell_type": "markdown",
   "id": "13a5f3e5",
   "metadata": {},
   "source": [
    "### Testing"
   ]
  },
  {
   "cell_type": "code",
   "execution_count": 290,
   "id": "02ad2921",
   "metadata": {},
   "outputs": [
    {
     "data": {
      "text/plain": [
       "(16, True)"
      ]
     },
     "execution_count": 290,
     "metadata": {},
     "output_type": "execute_result"
    }
   ],
   "source": [
    "# test daily\n",
    "\n",
    "date = datetime.strptime('2022-1-31', '%Y-%m-%d')\n",
    "get_hours_daily(\"ERCOT\", \"onpeak\", date, True)"
   ]
  },
  {
   "cell_type": "code",
   "execution_count": 291,
   "id": "3d1853d3",
   "metadata": {},
   "outputs": [
    {
     "data": {
      "text/plain": [
       "{'iso': 'CASIO',\n",
       " 'peak.type': 'onpeak',\n",
       " 'num.hour': 432,\n",
       " 'start.date': '2022-12-01',\n",
       " 'end.date': '2022-12-31'}"
      ]
     },
     "execution_count": 291,
     "metadata": {},
     "output_type": "execute_result"
    }
   ],
   "source": [
    "# test monthly\n",
    "\n",
    "# get_hours(\"ERCOT\", \"offpeak\", '2022-11-6')\n",
    "get_hours(\"CASIO\", \"onpeak\", '2022Dec')"
   ]
  },
  {
   "cell_type": "code",
   "execution_count": 292,
   "id": "e02b2f97",
   "metadata": {},
   "outputs": [
    {
     "data": {
      "text/plain": [
       "{'iso': 'CASIO',\n",
       " 'peak.type': 'offpeak',\n",
       " 'num.hour': 927,\n",
       " 'start.date': '2023-01-01',\n",
       " 'end.date': '2023-03-31'}"
      ]
     },
     "execution_count": 292,
     "metadata": {},
     "output_type": "execute_result"
    }
   ],
   "source": [
    "# test quarterly\n",
    "\n",
    "get_hours(\"CASIO\", \"offpeak\", '2023Q1')"
   ]
  },
  {
   "cell_type": "code",
   "execution_count": 293,
   "id": "43ea5639",
   "metadata": {},
   "outputs": [
    {
     "data": {
      "text/plain": [
       "{'iso': 'CASIO',\n",
       " 'peak.type': 'offpeak',\n",
       " 'num.hour': 3848,\n",
       " 'start.date': '2023-01-01',\n",
       " 'end.date': '2023-12-31'}"
      ]
     },
     "execution_count": 293,
     "metadata": {},
     "output_type": "execute_result"
    }
   ],
   "source": [
    "# test annually\n",
    "\n",
    "get_hours(\"CASIO\", \"offpeak\", '2023A')"
   ]
  },
  {
   "cell_type": "markdown",
   "id": "8e258f37",
   "metadata": {},
   "source": [
    "references: https://www.nerc.com/comm/OC/RS%20Agendas%20Highlights%20and%20Minutes%20DL/Additional_Off-peak_Days.pdf"
   ]
  }
 ],
 "metadata": {
  "kernelspec": {
   "display_name": "eods-s22",
   "language": "python",
   "name": "eods-s22"
  },
  "language_info": {
   "codemirror_mode": {
    "name": "ipython",
    "version": 3
   },
   "file_extension": ".py",
   "mimetype": "text/x-python",
   "name": "python",
   "nbconvert_exporter": "python",
   "pygments_lexer": "ipython3",
   "version": "3.9.9"
  }
 },
 "nbformat": 4,
 "nbformat_minor": 5
}
